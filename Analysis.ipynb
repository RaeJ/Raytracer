{
 "cells": [
  {
   "cell_type": "code",
   "execution_count": 71,
   "metadata": {},
   "outputs": [
    {
     "data": {
      "image/png": "[encoded data removed]",
      "text/plain": [
       "<matplotlib.figure.Figure at 0x11db00e80>"
      ]
     },
     "metadata": {},
     "output_type": "display_data"
    }
   ],
   "source": [
    "import csv\n",
    "import numpy as np\n",
    "import pylab\n",
    "import matplotlib.pyplot as plt\n",
    "from matplotlib import rc\n",
    "pylab.rcParams['figure.figsize'] = (10.0, 6)\n",
    "pylab.rcParams['font.size'] = 18\n",
    "\n",
    "rc('text', usetex=True)\n",
    "\n",
    "plt.rc('text', usetex=True)\n",
    "plt.rc('font', family='serif')\n",
    "\n",
    "my_data = np.genfromtxt('results.csv', delimiter=',')\n",
    "# print(my_data)\n",
    "\n",
    "# fig = plt.figure()\n",
    "# ax = fig.add_subplot(2, 1, 1)\n",
    "# plt.plot(, , 'go--', linewidth=2, markersize=4)\n",
    "# plt.plot(my_data[:,0], my_data[:,2], 'bo--', linewidth=2, markersize=4)\n",
    "# plt.plot(my_data[:,0], my_data[:,3], 'ro--', linewidth=2, markersize=4)\n",
    "# plt.plot(my_data[:,0], my_data[:,4], 'yo--', linewidth=2, markersize=4)\n",
    "\n",
    "# BsBs2D1, = plt.plot(my_data[:,0], my_data[:,1], label='$B_s-B_s2D_1$', lw=1.2 )\n",
    "# BsBs1D, = plt.plot(my_data[:,0], my_data[:,2], label='$B_s-B_s1D$', lw=1.2 )\n",
    "# BsBl2D2, = plt.plot(my_data[:,0], my_data[:,3], label='$B_s-B_l2D_2$', lw=1.2 )\n",
    "PBl3D, = plt.plot(my_data[:,0], my_data[:,4], label='$P-B_l3D$', lw=1.2 )\n",
    "# BsBl1D, = plt.plot(my_data[:,0], my_data[:,5], label='$B_s-B_l1D$', lw=1.2 )\n",
    "# BlP2D, = plt.plot(my_data[:,0], my_data[:,6], label='$B_l-P2D$', lw=1.2 )\n",
    "# plt.legend(handles=[BsBs2D1,BsBs1D,BsBl2D2,PBl3D,BsBl1D,BlP2D],fontsize='x-small')\n",
    "plt.tight_layout()\n",
    "\n",
    "# plt.ylim( 0, 10^5 )\n",
    "plt.ylabel(\"NSD, $\\sigma_{\\mu}(\\omega)$ (unitless)\")\n",
    "plt.xlabel(\"kernel width, $\\omega$ [mfp]\")\n",
    "    \n",
    "\n",
    "plt.yscale('log')\n",
    "pylab.show()"
   ]
  },
  {
   "cell_type": "code",
   "execution_count": null,
   "metadata": {
    "collapsed": true
   },
   "outputs": [],
   "source": []
  },
  {
   "cell_type": "code",
   "execution_count": null,
   "metadata": {
    "collapsed": true
   },
   "outputs": [],
   "source": []
  }
 ],
 "metadata": {
  "kernelspec": {
   "display_name": "Python 3",
   "language": "python",
   "name": "python3"
  },
  "language_info": {
   "codemirror_mode": {
    "name": "ipython",
    "version": 3
   },
   "file_extension": ".py",
   "mimetype": "text/x-python",
   "name": "python",
   "nbconvert_exporter": "python",
   "pygments_lexer": "ipython3",
   "version": "3.6.3"
  }
 },
 "nbformat": 4,
 "nbformat_minor": 2
}
